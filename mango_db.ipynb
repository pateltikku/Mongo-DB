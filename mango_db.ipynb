{
 "cells": [
  {
   "cell_type": "markdown",
   "id": "9d6decb3-7603-4df6-88b5-59033c81ecc7",
   "metadata": {},
   "source": [
    "Q1. What is MongoDB? Explain non-relational databases in short. In which scenarios it is preferred to use\n",
    "MongoDB over SQL databases?"
   ]
  },
  {
   "cell_type": "markdown",
   "id": "c49802c3-0f64-4e42-9731-965fb94d4a0a",
   "metadata": {},
   "source": [
    "MangoDb is a NoSQL database management system. It can store data in a flexible format ie- schema less.\n",
    "\n",
    "**Non-Relational Database (NoSQL)-**\n",
    "\n",
    "1. MongoDB, don't  require a predefined schema. Each record can have different fields, which provides flexibilty for changing data requirements.\n",
    "\n",
    "2. NoSQL databases are more suitable for storing semi-structured or unstructured data like JSON, XML, or key-value pairs.\n",
    "\n",
    "\n",
    "**When to Use MongoDB over SQL Databases-**\n",
    "\n",
    "1. When the application's data structure is dynamic and may evolve over time.\n",
    "2. When need arises of handling large amount of data, with high workload.\n",
    "3. When data doesn't fit into tables with rows and columns.\n",
    "4. MongoDB is often used in cloud-native environments due to its scalability and compatibility with cloud platforms like AWS, Azure, and Google Cloud."
   ]
  },
  {
   "cell_type": "markdown",
   "id": "ff0cc028-b097-4cd4-83e7-38a6d25372de",
   "metadata": {},
   "source": [
    "Q2. State and Explain the features of MongoDB."
   ]
  },
  {
   "cell_type": "markdown",
   "id": "3e7078c4-95e9-46e8-8288-a9a56d1ca0be",
   "metadata": {},
   "source": [
    "1. MongoDB uses a schema-less document data model. Each document in a collection can have a different structure.\n",
    "\n",
    "2. It can store JSON files.\n",
    "\n",
    "3. It can scale horizontally due to its feature of addition of more servers. \n",
    "\n",
    "4. MangoDB Atlas is a cloud based database service which can be easily used for deployment of database over platforms like AWS, Azure etc."
   ]
  },
  {
   "cell_type": "markdown",
   "id": "2e98a630-be0e-41d7-a0c8-9a4b35e4dd35",
   "metadata": {},
   "source": [
    "Q3. Write a code to connect MongoDB to Python. Also, create a database and a collection in MongoDB."
   ]
  },
  {
   "cell_type": "code",
   "execution_count": 3,
   "id": "6d223bd1-2610-4f0e-ab42-68715a8e0032",
   "metadata": {},
   "outputs": [
    {
     "name": "stdout",
     "output_type": "stream",
     "text": [
      "Collecting pymongo\n",
      "  Downloading pymongo-4.5.0-cp310-cp310-manylinux_2_17_x86_64.manylinux2014_x86_64.whl (671 kB)\n",
      "\u001b[2K     \u001b[90m━━━━━━━━━━━━━━━━━━━━━━━━━━━━━━━━━━━━━━\u001b[0m \u001b[32m671.3/671.3 kB\u001b[0m \u001b[31m15.2 MB/s\u001b[0m eta \u001b[36m0:00:00\u001b[0ma \u001b[36m0:00:01\u001b[0m\n",
      "\u001b[?25hCollecting dnspython<3.0.0,>=1.16.0\n",
      "  Downloading dnspython-2.4.2-py3-none-any.whl (300 kB)\n",
      "\u001b[2K     \u001b[90m━━━━━━━━━━━━━━━━━━━━━━━━━━━━━━━━━━━━━━\u001b[0m \u001b[32m300.4/300.4 kB\u001b[0m \u001b[31m35.9 MB/s\u001b[0m eta \u001b[36m0:00:00\u001b[0m\n",
      "\u001b[?25hInstalling collected packages: dnspython, pymongo\n",
      "Successfully installed dnspython-2.4.2 pymongo-4.5.0\n",
      "Note: you may need to restart the kernel to use updated packages.\n"
     ]
    }
   ],
   "source": [
    "pip install pymongo"
   ]
  },
  {
   "cell_type": "code",
   "execution_count": 6,
   "id": "a644c198-5eba-4fba-bd05-a7c7c8db0136",
   "metadata": {},
   "outputs": [],
   "source": [
    "import pymongo"
   ]
  },
  {
   "cell_type": "code",
   "execution_count": 8,
   "id": "e0d166d2-f65b-4285-b300-2f72a415d69f",
   "metadata": {},
   "outputs": [
    {
     "name": "stdout",
     "output_type": "stream",
     "text": [
      "Pinged your deployment. You successfully connected to MongoDB!\n"
     ]
    }
   ],
   "source": [
    "\n",
    "from pymongo.mongo_client import MongoClient\n",
    "\n",
    "uri = \"mongodb+srv://pateltikku:<password>@pateltikku.6rr6rgu.mongodb.net/?retryWrites=true&w=majority\"\n",
    "\n",
    "# Create a new client and connect to the server\n",
    "client = MongoClient(uri)\n",
    "\n",
    "# Send a ping to confirm a successful connection\n",
    "try:\n",
    "    client.admin.command('ping')\n",
    "    print(\"Pinged your deployment. You successfully connected to MongoDB!\")\n",
    "except Exception as e:\n",
    "    print(e)"
   ]
  },
  {
   "cell_type": "code",
   "execution_count": 9,
   "id": "f3b0ad7f-cab3-47b6-9559-05a2b94d5544",
   "metadata": {},
   "outputs": [],
   "source": [
    "db = client[\"tikku\"]"
   ]
  },
  {
   "cell_type": "code",
   "execution_count": 10,
   "id": "71748a65-342f-4af2-aa8d-cf15eaeb61b7",
   "metadata": {},
   "outputs": [],
   "source": [
    "coll_create = db[\"my_record\"]"
   ]
  },
  {
   "cell_type": "code",
   "execution_count": 11,
   "id": "26cd9d46-490e-49dc-8b1a-9f53bf46d0a7",
   "metadata": {},
   "outputs": [],
   "source": [
    "data = {\"name\":\"tikku\",\n",
    "        \"class\":\"data_science_masters\",\n",
    "        \"timing\":\"flexi\"\n",
    "\n",
    "}"
   ]
  },
  {
   "cell_type": "markdown",
   "id": "181d6e16-1283-4ef7-97bb-5922b4a6e9d1",
   "metadata": {},
   "source": [
    "Q4. Using the database and the collection created in question number 3, write a code to insert one record,\n",
    "and insert many records. Use the find() and find_one() methods to print the inserted record."
   ]
  },
  {
   "cell_type": "code",
   "execution_count": 12,
   "id": "7416075b-991e-4945-926c-9fa2140d3021",
   "metadata": {},
   "outputs": [
    {
     "data": {
      "text/plain": [
       "<pymongo.results.InsertOneResult at 0x7f072caca740>"
      ]
     },
     "execution_count": 12,
     "metadata": {},
     "output_type": "execute_result"
    }
   ],
   "source": [
    "coll_create.insert_one(data)"
   ]
  },
  {
   "cell_type": "code",
   "execution_count": 13,
   "id": "d976f880-a2e1-460d-a5a0-88c9ee1f7e71",
   "metadata": {},
   "outputs": [],
   "source": [
    "data1 = {\"mail_id\":\"tikku\",\n",
    "         \"phone_no\":64564\n",
    "}"
   ]
  },
  {
   "cell_type": "code",
   "execution_count": 14,
   "id": "0b1c20e1-57d5-4186-9f99-f343dad7da1c",
   "metadata": {},
   "outputs": [
    {
     "data": {
      "text/plain": [
       "<pymongo.results.InsertOneResult at 0x7f072caca500>"
      ]
     },
     "execution_count": 14,
     "metadata": {},
     "output_type": "execute_result"
    }
   ],
   "source": [
    "coll_create.insert_one(data1)"
   ]
  },
  {
   "cell_type": "code",
   "execution_count": 15,
   "id": "762f7a59-d459-4141-9234-4349e051fc90",
   "metadata": {},
   "outputs": [],
   "source": [
    " data2 = [\n",
    "  { \"name\": \"Amy\", \"address\": \"Apple st 652\" },\n",
    "  { \"name\": \"Hannah\", \"address\": \"Mountain 21\" },\n",
    "  { \"name\": \"Michael\", \"address\": \"Valley 345\" },\n",
    "  { \"name\": \"Sandy\", \"address\": \"Ocean blvd 2\" },\n",
    "  { \"name\": \"Betty\", \"address\": \"Green Grass 1\" },\n",
    "  { \"name\": \"Richard\", \"address\": \"Sky st 331\" },\n",
    "  { \"name\": \"Susan\", \"address\": \"One way 98\" },\n",
    "  { \"name\": \"Vicky\", \"address\": \"Yellow Garden 2\" },\n",
    "  { \"name\": \"Ben\", \"address\": \"Park Lane 38\" },\n",
    "  { \"name\": \"William\", \"address\": \"Central st 954\" },\n",
    "  { \"name\": \"Chuck\", \"address\": \"Main Road 989\" },\n",
    "  { \"name\": \"Viola\", \"address\": \"Sideway 1633\" }\n",
    "]"
   ]
  },
  {
   "cell_type": "code",
   "execution_count": 16,
   "id": "9b0e27df-4be2-46f6-bcea-503e89bda0aa",
   "metadata": {},
   "outputs": [
    {
     "data": {
      "text/plain": [
       "<pymongo.results.InsertManyResult at 0x7f072d5c0250>"
      ]
     },
     "execution_count": 16,
     "metadata": {},
     "output_type": "execute_result"
    }
   ],
   "source": [
    "coll_create.insert_many(data2)"
   ]
  },
  {
   "cell_type": "code",
   "execution_count": 17,
   "id": "91be0a9c-4680-425c-9b7f-d46a31e1001c",
   "metadata": {},
   "outputs": [
    {
     "name": "stdout",
     "output_type": "stream",
     "text": [
      "{'_id': ObjectId('65107ab63c3d8a7cdf78c2da'), 'name': 'tikku', 'class': 'data_science_masters', 'timing': 'flexi'}\n",
      "{'_id': ObjectId('65107ae13c3d8a7cdf78c2db'), 'mail_id': 'tikku', 'phone_no': 64564}\n",
      "{'_id': ObjectId('65107b013c3d8a7cdf78c2dc'), 'name': 'Amy', 'address': 'Apple st 652'}\n",
      "{'_id': ObjectId('65107b013c3d8a7cdf78c2dd'), 'name': 'Hannah', 'address': 'Mountain 21'}\n",
      "{'_id': ObjectId('65107b013c3d8a7cdf78c2de'), 'name': 'Michael', 'address': 'Valley 345'}\n",
      "{'_id': ObjectId('65107b013c3d8a7cdf78c2df'), 'name': 'Sandy', 'address': 'Ocean blvd 2'}\n",
      "{'_id': ObjectId('65107b013c3d8a7cdf78c2e0'), 'name': 'Betty', 'address': 'Green Grass 1'}\n",
      "{'_id': ObjectId('65107b013c3d8a7cdf78c2e1'), 'name': 'Richard', 'address': 'Sky st 331'}\n",
      "{'_id': ObjectId('65107b013c3d8a7cdf78c2e2'), 'name': 'Susan', 'address': 'One way 98'}\n",
      "{'_id': ObjectId('65107b013c3d8a7cdf78c2e3'), 'name': 'Vicky', 'address': 'Yellow Garden 2'}\n",
      "{'_id': ObjectId('65107b013c3d8a7cdf78c2e4'), 'name': 'Ben', 'address': 'Park Lane 38'}\n",
      "{'_id': ObjectId('65107b013c3d8a7cdf78c2e5'), 'name': 'William', 'address': 'Central st 954'}\n",
      "{'_id': ObjectId('65107b013c3d8a7cdf78c2e6'), 'name': 'Chuck', 'address': 'Main Road 989'}\n",
      "{'_id': ObjectId('65107b013c3d8a7cdf78c2e7'), 'name': 'Viola', 'address': 'Sideway 1633'}\n"
     ]
    }
   ],
   "source": [
    "for i in coll_create.find():\n",
    "    print (i)"
   ]
  },
  {
   "cell_type": "code",
   "execution_count": 18,
   "id": "b2225fff-2219-4b36-8f42-c6308740eecf",
   "metadata": {},
   "outputs": [
    {
     "data": {
      "text/plain": [
       "{'_id': ObjectId('65107ab63c3d8a7cdf78c2da'),\n",
       " 'name': 'tikku',\n",
       " 'class': 'data_science_masters',\n",
       " 'timing': 'flexi'}"
      ]
     },
     "execution_count": 18,
     "metadata": {},
     "output_type": "execute_result"
    }
   ],
   "source": [
    "coll_create.find_one()"
   ]
  },
  {
   "cell_type": "markdown",
   "id": "0815f12c-0780-4cb4-bf77-88313675ef61",
   "metadata": {},
   "source": [
    "Q5. Explain how you can use the find() method to query the MongoDB database. Write a simple code to\n",
    "demonstrate this."
   ]
  },
  {
   "cell_type": "code",
   "execution_count": 19,
   "id": "8cd835ec-fe8f-4317-aa47-03acf3c23225",
   "metadata": {},
   "outputs": [
    {
     "name": "stdout",
     "output_type": "stream",
     "text": [
      "{'_id': ObjectId('65107ab63c3d8a7cdf78c2da'), 'name': 'tikku', 'class': 'data_science_masters', 'timing': 'flexi'}\n",
      "{'_id': ObjectId('65107ae13c3d8a7cdf78c2db'), 'mail_id': 'tikku', 'phone_no': 64564}\n",
      "{'_id': ObjectId('65107b013c3d8a7cdf78c2dc'), 'name': 'Amy', 'address': 'Apple st 652'}\n",
      "{'_id': ObjectId('65107b013c3d8a7cdf78c2dd'), 'name': 'Hannah', 'address': 'Mountain 21'}\n",
      "{'_id': ObjectId('65107b013c3d8a7cdf78c2de'), 'name': 'Michael', 'address': 'Valley 345'}\n",
      "{'_id': ObjectId('65107b013c3d8a7cdf78c2df'), 'name': 'Sandy', 'address': 'Ocean blvd 2'}\n",
      "{'_id': ObjectId('65107b013c3d8a7cdf78c2e0'), 'name': 'Betty', 'address': 'Green Grass 1'}\n",
      "{'_id': ObjectId('65107b013c3d8a7cdf78c2e1'), 'name': 'Richard', 'address': 'Sky st 331'}\n",
      "{'_id': ObjectId('65107b013c3d8a7cdf78c2e2'), 'name': 'Susan', 'address': 'One way 98'}\n",
      "{'_id': ObjectId('65107b013c3d8a7cdf78c2e3'), 'name': 'Vicky', 'address': 'Yellow Garden 2'}\n",
      "{'_id': ObjectId('65107b013c3d8a7cdf78c2e4'), 'name': 'Ben', 'address': 'Park Lane 38'}\n",
      "{'_id': ObjectId('65107b013c3d8a7cdf78c2e5'), 'name': 'William', 'address': 'Central st 954'}\n",
      "{'_id': ObjectId('65107b013c3d8a7cdf78c2e6'), 'name': 'Chuck', 'address': 'Main Road 989'}\n",
      "{'_id': ObjectId('65107b013c3d8a7cdf78c2e7'), 'name': 'Viola', 'address': 'Sideway 1633'}\n"
     ]
    }
   ],
   "source": [
    "for i in coll_create.find():\n",
    "    print (i)"
   ]
  },
  {
   "cell_type": "markdown",
   "id": "89dff03b-2401-41e4-aa81-d936860e6817",
   "metadata": {},
   "source": [
    "Q6. Explain the sort() method. Give an example to demonstrate sorting in MongoDB."
   ]
  },
  {
   "cell_type": "code",
   "execution_count": 21,
   "id": "e5fa718e-ea52-4df4-a456-45ff4a8d1cde",
   "metadata": {},
   "outputs": [],
   "source": [
    "data3 = [\n",
    "    {\"name\": \"Alice\", \"age\": 30},\n",
    "    {\"name\": \"Bob\", \"age\": 25},\n",
    "    {\"name\": \"Charlie\", \"age\": 35},\n",
    "]"
   ]
  },
  {
   "cell_type": "code",
   "execution_count": 22,
   "id": "5094dd4c-70df-4c05-9e9c-2077796ca55d",
   "metadata": {},
   "outputs": [
    {
     "data": {
      "text/plain": [
       "<pymongo.results.InsertManyResult at 0x7f072d479d20>"
      ]
     },
     "execution_count": 22,
     "metadata": {},
     "output_type": "execute_result"
    }
   ],
   "source": [
    "coll_create.insert_many(data3)"
   ]
  },
  {
   "cell_type": "code",
   "execution_count": 24,
   "id": "b5b40079-29d6-4147-8c46-b9a156659d08",
   "metadata": {},
   "outputs": [
    {
     "name": "stdout",
     "output_type": "stream",
     "text": [
      "Documents sorted by age in ascending order:\n",
      "{'_id': ObjectId('65107ab63c3d8a7cdf78c2da'), 'name': 'tikku', 'class': 'data_science_masters', 'timing': 'flexi'}\n",
      "{'_id': ObjectId('65107ae13c3d8a7cdf78c2db'), 'mail_id': 'tikku', 'phone_no': 64564}\n",
      "{'_id': ObjectId('65107b013c3d8a7cdf78c2dc'), 'name': 'Amy', 'address': 'Apple st 652'}\n",
      "{'_id': ObjectId('65107b013c3d8a7cdf78c2dd'), 'name': 'Hannah', 'address': 'Mountain 21'}\n",
      "{'_id': ObjectId('65107b013c3d8a7cdf78c2de'), 'name': 'Michael', 'address': 'Valley 345'}\n",
      "{'_id': ObjectId('65107b013c3d8a7cdf78c2df'), 'name': 'Sandy', 'address': 'Ocean blvd 2'}\n",
      "{'_id': ObjectId('65107b013c3d8a7cdf78c2e0'), 'name': 'Betty', 'address': 'Green Grass 1'}\n",
      "{'_id': ObjectId('65107b013c3d8a7cdf78c2e1'), 'name': 'Richard', 'address': 'Sky st 331'}\n",
      "{'_id': ObjectId('65107b013c3d8a7cdf78c2e2'), 'name': 'Susan', 'address': 'One way 98'}\n",
      "{'_id': ObjectId('65107b013c3d8a7cdf78c2e3'), 'name': 'Vicky', 'address': 'Yellow Garden 2'}\n",
      "{'_id': ObjectId('65107b013c3d8a7cdf78c2e4'), 'name': 'Ben', 'address': 'Park Lane 38'}\n",
      "{'_id': ObjectId('65107b013c3d8a7cdf78c2e5'), 'name': 'William', 'address': 'Central st 954'}\n",
      "{'_id': ObjectId('65107b013c3d8a7cdf78c2e6'), 'name': 'Chuck', 'address': 'Main Road 989'}\n",
      "{'_id': ObjectId('65107b013c3d8a7cdf78c2e7'), 'name': 'Viola', 'address': 'Sideway 1633'}\n",
      "{'_id': ObjectId('65107c463c3d8a7cdf78c2e9'), 'name': 'Bob', 'age': 25}\n",
      "{'_id': ObjectId('65107c463c3d8a7cdf78c2e8'), 'name': 'Alice', 'age': 30}\n",
      "{'_id': ObjectId('65107c463c3d8a7cdf78c2ea'), 'name': 'Charlie', 'age': 35}\n"
     ]
    }
   ],
   "source": [
    "ascending_sort = coll_create.find().sort(\"age\", 1)\n",
    "\n",
    "print(\"Documents sorted by age in ascending order:\")\n",
    "for i in ascending_sort:\n",
    "    print(i)"
   ]
  },
  {
   "cell_type": "markdown",
   "id": "b055d9f6-e422-426a-8519-e4ec325adeb7",
   "metadata": {},
   "source": [
    "Q7. Explain why delete_one(), delete_many(), and drop() is used."
   ]
  },
  {
   "cell_type": "markdown",
   "id": "cb0e99ab-f572-45f2-a8a2-1fadf5865651",
   "metadata": {},
   "source": [
    "delete_one()- This method is useful to remove a single document based on a specific condition. It used when deletion of a particular record or document that matches a unique identifier or some specific criteria is needed. A relevant example is demonstrated below-"
   ]
  },
  {
   "cell_type": "code",
   "execution_count": 30,
   "id": "360d2054-65f9-4d22-b726-cdaf61218025",
   "metadata": {},
   "outputs": [
    {
     "data": {
      "text/plain": [
       "<pymongo.results.DeleteResult at 0x7f072caca710>"
      ]
     },
     "execution_count": 30,
     "metadata": {},
     "output_type": "execute_result"
    }
   ],
   "source": [
    "coll_create.delete_one({'_id': ('65107c463c3d8a7cdf78c2ea')})"
   ]
  },
  {
   "cell_type": "markdown",
   "id": "6bf8b8da-37fe-446a-b373-4b0ef84e7dd0",
   "metadata": {},
   "source": [
    "delete_many()- When deletion of multiple documents based on certain criteria is required, delete_many() method is employed. It is suitable for batch deletion of documents. A relevant example is demonstrated below-"
   ]
  },
  {
   "cell_type": "code",
   "execution_count": 31,
   "id": "01108262-c3df-4150-a143-264bef22044b",
   "metadata": {},
   "outputs": [
    {
     "data": {
      "text/plain": [
       "<pymongo.results.DeleteResult at 0x7f072c68df90>"
      ]
     },
     "execution_count": 31,
     "metadata": {},
     "output_type": "execute_result"
    }
   ],
   "source": [
    "coll_create.delete_many({\"status\": \"inactive\"})"
   ]
  },
  {
   "cell_type": "markdown",
   "id": "30ac06a7-418d-4db9-9322-3ccaa3147c38",
   "metadata": {},
   "source": [
    "drop()- The drop() method is more drastic method. it is used to delete an entire collection, including all its documents. This is typically used when complete removal of a collection and all its data is required. A relevant example is demonstrated below-"
   ]
  },
  {
   "cell_type": "code",
   "execution_count": 32,
   "id": "7bab91d7-649f-42d1-9120-c3244872c1c6",
   "metadata": {},
   "outputs": [],
   "source": [
    "coll_create.drop()"
   ]
  },
  {
   "cell_type": "code",
   "execution_count": null,
   "id": "45a98b1f-7768-4ca5-8beb-d63419b39df9",
   "metadata": {},
   "outputs": [],
   "source": []
  }
 ],
 "metadata": {
  "kernelspec": {
   "display_name": "Python 3 (ipykernel)",
   "language": "python",
   "name": "python3"
  },
  "language_info": {
   "codemirror_mode": {
    "name": "ipython",
    "version": 3
   },
   "file_extension": ".py",
   "mimetype": "text/x-python",
   "name": "python",
   "nbconvert_exporter": "python",
   "pygments_lexer": "ipython3",
   "version": "3.10.8"
  }
 },
 "nbformat": 4,
 "nbformat_minor": 5
}
